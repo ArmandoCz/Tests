{
 "cells": [
  {
   "cell_type": "code",
   "execution_count": 30,
   "metadata": {},
   "outputs": [
    {
     "name": "stdout",
     "output_type": "stream",
     "text": [
      "Atributo 1: valor2\n",
      "Atributo 2: valor2\n",
      "Atributo protegido Protegido\n",
      "Atributo privado Privado\n"
     ]
    }
   ],
   "source": [
    "class MiClase:\n",
    "    atributo_de_clase = \"Soy un atributo de clase\"\n",
    "\n",
    "    def __init__(self,atributo1,atributo2):\n",
    "        self.atributo1 = atributo1\n",
    "        self.atributo2 = atributo2\n",
    "        self._protegido = \"Protegido\"\n",
    "        self.__privado = \"Privado\"\n",
    "\n",
    "    def mostrar_atributos(self):\n",
    "        print(f\"Atributo 1: {self.atributo1}\")\n",
    "        print(f\"Atributo 2: {self.atributo2}\")\n",
    "        print(f\"Atributo protegido {self._protegido}\")\n",
    "        print(f\"Atributo privado {self.__privado}\")\n",
    "\n",
    "    @staticmethod\n",
    "    def metodo_statico(a,b):\n",
    "        suma = a+b\n",
    "        print(f\"Este es un método estático que no hace nada {suma}\")\n",
    "    \n",
    "    @classmethod\n",
    "    def metodo_de_clase(cls):\n",
    "        print(cls.atributo_de_clase)\n",
    "\n",
    "mi_objeto_1 = MiClase(\"valor2\",\"valor2\")\n",
    "mi_objeto_1.mostrar_atributos()\n",
    "\n",
    "mi_objeto_2 = MiClase(\"valor4\",\"valor5\")"
   ]
  },
  {
   "cell_type": "code",
   "execution_count": 24,
   "metadata": {},
   "outputs": [
    {
     "data": {
      "text/plain": [
       "'Hola Mundo'"
      ]
     },
     "execution_count": 24,
     "metadata": {},
     "output_type": "execute_result"
    }
   ],
   "source": [
    "mi_objeto_1.__class__.atributo_de_clase = \"Hola Mundo\"\n",
    "mi_objeto_1.atributo_de_clase"
   ]
  },
  {
   "cell_type": "code",
   "execution_count": 25,
   "metadata": {},
   "outputs": [
    {
     "data": {
      "text/plain": [
       "'Hola Mundo'"
      ]
     },
     "execution_count": 25,
     "metadata": {},
     "output_type": "execute_result"
    }
   ],
   "source": [
    "mi_objeto_2.atributo_de_clase\n"
   ]
  },
  {
   "cell_type": "code",
   "execution_count": 22,
   "metadata": {},
   "outputs": [
    {
     "name": "stdout",
     "output_type": "stream",
     "text": [
      "Este es un método estático que no hace nada 5\n"
     ]
    }
   ],
   "source": [
    "mi_objeto_1.metodo_statico(2,3)"
   ]
  },
  {
   "cell_type": "code",
   "execution_count": 27,
   "metadata": {},
   "outputs": [
    {
     "name": "stdout",
     "output_type": "stream",
     "text": [
      "Hola Mundo\n"
     ]
    }
   ],
   "source": [
    "mi_objeto_1.metodo_de_clase()"
   ]
  },
  {
   "cell_type": "code",
   "execution_count": 36,
   "metadata": {},
   "outputs": [
    {
     "data": {
      "text/plain": [
       "'Protegido'"
      ]
     },
     "execution_count": 36,
     "metadata": {},
     "output_type": "execute_result"
    }
   ],
   "source": [
    "mi_objeto_1._protegido"
   ]
  },
  {
   "cell_type": "code",
   "execution_count": 37,
   "metadata": {},
   "outputs": [
    {
     "data": {
      "text/plain": [
       "'Privado'"
      ]
     },
     "execution_count": 37,
     "metadata": {},
     "output_type": "execute_result"
    }
   ],
   "source": [
    "mi_objeto_1._MiClase__privado"
   ]
  },
  {
   "cell_type": "code",
   "execution_count": 38,
   "metadata": {},
   "outputs": [],
   "source": [
    "class ClaseBase:\n",
    "    def __init__(self,base_atributo):\n",
    "        self.base_atributo = base_atributo\n",
    "\n",
    "    def metodo_base(self):\n",
    "        print(f\"Base atributo: {self.base_atributo}\")\n",
    "\n",
    "class ClaseDerivada(ClaseBase):\n",
    "    def __init__(self,base_atributo,derivado_atributo):\n",
    "        super().__init__(base_atributo)\n",
    "        self.derivado_derivado_atributo = derivado_atributo\n",
    "\n",
    "    def metodo_derivado(self):\n",
    "        print(f\"Derivado atributo: {self.derivado_derivado_atributo}\")\n",
    "\n",
    "    "
   ]
  },
  {
   "cell_type": "code",
   "execution_count": 39,
   "metadata": {},
   "outputs": [],
   "source": [
    "obj = ClaseDerivada(\"valor_base\",\"valor_derivado\")"
   ]
  },
  {
   "cell_type": "code",
   "execution_count": 40,
   "metadata": {},
   "outputs": [
    {
     "name": "stdout",
     "output_type": "stream",
     "text": [
      "Base atributo: valor_base\n"
     ]
    }
   ],
   "source": [
    "obj.metodo_base()"
   ]
  },
  {
   "cell_type": "code",
   "execution_count": 41,
   "metadata": {},
   "outputs": [
    {
     "name": "stdout",
     "output_type": "stream",
     "text": [
      "Derivado atributo: valor_derivado\n"
     ]
    }
   ],
   "source": [
    "obj.metodo_derivado()"
   ]
  },
  {
   "cell_type": "code",
   "execution_count": 46,
   "metadata": {},
   "outputs": [],
   "source": [
    "class Animal:\n",
    "    def hacer_sonido(self):\n",
    "        raise NotImplemented(\"Este metodo debe ser implementado por una subclaase\")\n",
    "    \n",
    "class Perro(Animal):\n",
    "    def hacer_sonido(self):\n",
    "        return \"Guau\""
   ]
  },
  {
   "cell_type": "code",
   "execution_count": 47,
   "metadata": {},
   "outputs": [],
   "source": [
    "Animal1= Animal()\n",
    "perro1 = Perro()"
   ]
  },
  {
   "cell_type": "code",
   "execution_count": 48,
   "metadata": {},
   "outputs": [
    {
     "ename": "TypeError",
     "evalue": "'NotImplementedType' object is not callable",
     "output_type": "error",
     "traceback": [
      "\u001b[0;31m---------------------------------------------------------------------------\u001b[0m",
      "\u001b[0;31mTypeError\u001b[0m                                 Traceback (most recent call last)",
      "Cell \u001b[0;32mIn[48], line 1\u001b[0m\n\u001b[0;32m----> 1\u001b[0m \u001b[43mAnimal\u001b[49m\u001b[38;5;241;43m.\u001b[39;49m\u001b[43mhacer_sonido\u001b[49m\u001b[43m(\u001b[49m\u001b[38;5;241;43m1\u001b[39;49m\u001b[43m)\u001b[49m\n",
      "Cell \u001b[0;32mIn[46], line 3\u001b[0m, in \u001b[0;36mAnimal.hacer_sonido\u001b[0;34m(self)\u001b[0m\n\u001b[1;32m      2\u001b[0m \u001b[38;5;28;01mdef\u001b[39;00m \u001b[38;5;21mhacer_sonido\u001b[39m(\u001b[38;5;28mself\u001b[39m):\n\u001b[0;32m----> 3\u001b[0m     \u001b[38;5;28;01mraise\u001b[39;00m \u001b[38;5;28;43mNotImplemented\u001b[39;49m\u001b[43m(\u001b[49m\u001b[38;5;124;43m\"\u001b[39;49m\u001b[38;5;124;43mEste metodo debe ser implementado por una subclaase\u001b[39;49m\u001b[38;5;124;43m\"\u001b[39;49m\u001b[43m)\u001b[49m\n",
      "\u001b[0;31mTypeError\u001b[0m: 'NotImplementedType' object is not callable"
     ]
    }
   ],
   "source": [
    "Animal.hacer_sonido(1)"
   ]
  },
  {
   "cell_type": "code",
   "execution_count": 49,
   "metadata": {},
   "outputs": [
    {
     "data": {
      "text/plain": [
       "'Guau'"
      ]
     },
     "execution_count": 49,
     "metadata": {},
     "output_type": "execute_result"
    }
   ],
   "source": [
    "perro1.hacer_sonido()"
   ]
  },
  {
   "cell_type": "code",
   "execution_count": 52,
   "metadata": {},
   "outputs": [],
   "source": [
    "from abc import ABC, abstractmethod\n",
    "\n",
    "class Vehiculo(ABC):  # Clase abstracta\n",
    "    @abstractmethod\n",
    "    def moverse(self):\n",
    "        pass\n",
    "\n",
    "class Carro(Vehiculo):\n",
    "    def moverse(self):\n",
    "        return \"El carro se mueve sobre ruedas\"\n"
   ]
  },
  {
   "cell_type": "code",
   "execution_count": 53,
   "metadata": {},
   "outputs": [],
   "source": [
    "carro1 = Carro()"
   ]
  },
  {
   "cell_type": "code",
   "execution_count": null,
   "metadata": {},
   "outputs": [],
   "source": []
  }
 ],
 "metadata": {
  "kernelspec": {
   "display_name": "pytorch251",
   "language": "python",
   "name": "python3"
  },
  "language_info": {
   "codemirror_mode": {
    "name": "ipython",
    "version": 3
   },
   "file_extension": ".py",
   "mimetype": "text/x-python",
   "name": "python",
   "nbconvert_exporter": "python",
   "pygments_lexer": "ipython3",
   "version": "3.12.3"
  }
 },
 "nbformat": 4,
 "nbformat_minor": 2
}
