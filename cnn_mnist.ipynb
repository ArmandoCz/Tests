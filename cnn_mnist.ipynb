{
 "cells": [
  {
   "cell_type": "code",
   "execution_count": 2,
   "metadata": {},
   "outputs": [],
   "source": [
    "import torch\n",
    "import torch.nn as nn\n",
    "import torch.optim as optim\n",
    "\n",
    "from torchvision import datasets,transforms\n",
    "from torch.utils.data import DataLoader\n",
    "\n",
    "import typing\n",
    "import matplotlib.pyplot as plt\n",
    "\n",
    "import random"
   ]
  },
  {
   "cell_type": "code",
   "execution_count": 12,
   "metadata": {},
   "outputs": [],
   "source": [
    "batch_size = 128\n",
    "learning_rate = 0.001\n",
    "num_epochs = 5"
   ]
  },
  {
   "cell_type": "code",
   "execution_count": 4,
   "metadata": {},
   "outputs": [],
   "source": [
    "def get_device() -> str:\n",
    "    return torch.device(\"cuda\" if torch.cuda.is_available() else \"cpu\")\n",
    "\n",
    "def get_dataset(bach_size:int) -> typing.Tuple[DataLoader,DataLoader]:\n",
    "    transform = transforms.Compose([\n",
    "        transforms.ToTensor(),\n",
    "        transforms.Normalize((0.5,),(0.5,))\n",
    "    ])\n",
    "\n",
    "    train_dataset = datasets.MNIST(\n",
    "        root=\"./data\",\n",
    "        train = True,\n",
    "        transform=transform,\n",
    "        download=True)\n",
    "    \n",
    "    test_dataset = datasets.MNIST(\n",
    "        root=\"./data\",\n",
    "        train = False,\n",
    "        transform=transform,\n",
    "        download=True)\n",
    "    \n",
    "    train_loader = DataLoader(\n",
    "        dataset = train_dataset,\n",
    "        batch_size = bach_size,\n",
    "        shuffle = True\n",
    "    )\n",
    "\n",
    "    test_loader = DataLoader(\n",
    "        dataset = test_dataset,\n",
    "        batch_size = bach_size,\n",
    "        shuffle = True\n",
    "    )\n",
    "\n",
    "    return (train_loader,test_loader,train_dataset,test_dataset)"
   ]
  },
  {
   "cell_type": "code",
   "execution_count": 5,
   "metadata": {},
   "outputs": [],
   "source": [
    "def get_random_image_loader(dataloader:DataLoader)-> None:\n",
    "    \n",
    "    random_batch = torch.randint(0,len(dataloader),(1,)).item()\n",
    "    print(random_batch)\n",
    "    dataloader_iter = iter(dataloader)\n",
    "    for _ in range(random_batch):\n",
    "        next(dataloader_iter)\n",
    "        \n",
    "    images,labels = next(dataloader_iter)\n",
    "    random_image = torch.randint(0,len(images),(1,)).item()\n",
    "    image = images[random_image]\n",
    "    label = labels[random_image]\n",
    "    image = image * 0.5 + 0.5 \n",
    "    image = image.permute(1, 2, 0)\n",
    "    plt.imshow(image.squeeze(), cmap=\"gray\")  \n",
    "    plt.title(f\"Etiqueta: {label.item()}\")\n",
    "    plt.axis(\"off\")\n",
    "    plt.show() "
   ]
  },
  {
   "cell_type": "code",
   "execution_count": 6,
   "metadata": {},
   "outputs": [],
   "source": [
    "device = get_device()\n",
    "train_loader,test_loader,train_dataset,test_dataset = get_dataset(bach_size=batch_size)"
   ]
  },
  {
   "cell_type": "code",
   "execution_count": 7,
   "metadata": {},
   "outputs": [
    {
     "name": "stdout",
     "output_type": "stream",
     "text": [
      "566\n"
     ]
    },
    {
     "data": {
      "image/png": "[encoded data removed]",
      "text/plain": [
       "<Figure size 640x480 with 1 Axes>"
      ]
     },
     "metadata": {},
     "output_type": "display_data"
    }
   ],
   "source": [
    "get_random_image_loader(train_loader)"
   ]
  },
  {
   "cell_type": "code",
   "execution_count": 8,
   "metadata": {},
   "outputs": [
    {
     "data": {
      "image/png": "[encoded data removed]",
      "text/plain": [
       "<Figure size 640x480 with 1 Axes>"
      ]
     },
     "metadata": {},
     "output_type": "display_data"
    }
   ],
   "source": [
    "def get_random_image_dataset(dataset:datasets):\n",
    "    idx = random.randint(0,len(dataset)-1)\n",
    "    plt.imshow(dataset.data[idx],cmap='gray')\n",
    "    plt.title(f\"Label: {dataset.targets[idx].item()}\")\n",
    "\n",
    "get_random_image_dataset(train_dataset)"
   ]
  },
  {
   "cell_type": "code",
   "execution_count": 13,
   "metadata": {},
   "outputs": [
    {
     "name": "stdout",
     "output_type": "stream",
     "text": [
      "Epoca 1, Perdida 0.1512 \n",
      "Epoca 2, Perdida 0.0442 \n",
      "Epoca 3, Perdida 0.0293 \n",
      "Epoca 4, Perdida 0.0226 \n",
      "Epoca 5, Perdida 0.0164 \n",
      "Epoca 6, Perdida 0.0141 \n",
      "Epoca 7, Perdida 0.0108 \n",
      "Epoca 8, Perdida 0.0092 \n",
      "Epoca 9, Perdida 0.0078 \n",
      "Epoca 10, Perdida 0.0073 \n",
      "Precision en el conjunto de prueba: 99.30%\n"
     ]
    }
   ],
   "source": [
    "class SimpleCNN(nn.Module):\n",
    "    def __init__(self):\n",
    "        super(SimpleCNN,self).__init__()\n",
    "        self.conv1 = nn.Conv2d(in_channels=1,out_channels=32,kernel_size=3,padding=1)\n",
    "        self.conv2 = nn.Conv2d(in_channels=32,out_channels=64,kernel_size=3,padding=1)\n",
    "        self.pool = nn.MaxPool2d(kernel_size=2, stride=2)\n",
    "        self.fc1 = nn.Linear(64*7*7,128,128)\n",
    "        self.fc2 = nn.Linear(128,10)\n",
    "    \n",
    "    def forward(self,x):\n",
    "        x = self.pool(torch.relu(self.conv1(x)))\n",
    "        x = self.pool(torch.relu(self.conv2(x)))\n",
    "        x = x.view(-1,64*7*7)\n",
    "        x = torch.relu(self.fc1(x))\n",
    "        x = self.fc2(x)\n",
    "        return x\n",
    "    \n",
    "model = SimpleCNN().to(device=device)\n",
    "criterion = nn.CrossEntropyLoss()\n",
    "optimizer = optim.Adam(model.parameters(),lr = 0.001)\n",
    "\n",
    "num_epochs = 10\n",
    "\n",
    "for epoch in range(num_epochs):\n",
    "    running_loss = 0.0\n",
    "    model.train()\n",
    "\n",
    "    for images,labels in train_loader:\n",
    "        images,labels = images.to(device),labels.to(device)\n",
    "        optimizer.zero_grad()\n",
    "        outputs = model(images)\n",
    "        loss = criterion(outputs,labels)\n",
    "        loss.backward()\n",
    "        optimizer.step()\n",
    "        running_loss += loss.item()\n",
    "\n",
    "    print(f\"Epoca {epoch+1}, Perdida {running_loss/len(train_loader):.4f} \")\n",
    "\n",
    "model.eval()\n",
    "correct = 0\n",
    "total = 0\n",
    "\n",
    "with torch.no_grad():\n",
    "    for images,labels in test_loader:\n",
    "        images,labels = images.to(device),labels.to(device)\n",
    "        outputs = model(images)\n",
    "        _,predicted = torch.max(outputs,1)\n",
    "        total += labels.size(0)\n",
    "        correct += (predicted == labels).sum().item()\n",
    "\n",
    "    accuracy = 100*correct / total\n",
    "    print(f\"Precision en el conjunto de prueba: {accuracy:.2f}%\")"
   ]
  }
 ],
 "metadata": {
  "kernelspec": {
   "display_name": "pytorch251",
   "language": "python",
   "name": "python3"
  },
  "language_info": {
   "codemirror_mode": {
    "name": "ipython",
    "version": 3
   },
   "file_extension": ".py",
   "mimetype": "text/x-python",
   "name": "python",
   "nbconvert_exporter": "python",
   "pygments_lexer": "ipython3",
   "version": "3.12.3"
  }
 },
 "nbformat": 4,
 "nbformat_minor": 2
}
