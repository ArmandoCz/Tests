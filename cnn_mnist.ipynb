{
 "cells": [
  {
   "cell_type": "code",
   "execution_count": 1,
   "metadata": {},
   "outputs": [],
   "source": [
    "import torch\n",
    "import torch.nn as nn\n",
    "import torch.optim as optim\n",
    "\n",
    "from torchvision import datasets,transforms\n",
    "from torch.utils.data import DataLoader\n",
    "\n",
    "import typing\n",
    "import matplotlib.pyplot as plt"
   ]
  },
  {
   "cell_type": "code",
   "execution_count": 2,
   "metadata": {},
   "outputs": [],
   "source": [
    "batch_size = 64\n",
    "learning_rate = 0.001\n",
    "num_epochs = 5"
   ]
  },
  {
   "cell_type": "code",
   "execution_count": 3,
   "metadata": {},
   "outputs": [],
   "source": [
    "def get_device() -> str:\n",
    "    return torch.device(\"cuda\" if torch.cuda.is_available() else \"cpu\")\n",
    "\n",
    "def get_dataset(bach_size:int) -> typing.Tuple[DataLoader,DataLoader]:\n",
    "    transform = transforms.Compose([\n",
    "        transforms.ToTensor(),\n",
    "        transforms.Normalize((0.5,),(0.5,))\n",
    "    ])\n",
    "\n",
    "    train_dataset = datasets.MNIST(\n",
    "        root=\"./data\",\n",
    "        train = True,\n",
    "        transform=transform,\n",
    "        download=True)\n",
    "    \n",
    "    test_dataset = datasets.MNIST(\n",
    "        root=\"./data\",\n",
    "        train = False,\n",
    "        transform=transform,\n",
    "        download=True)\n",
    "    \n",
    "    train_loader = DataLoader(\n",
    "        dataset = train_dataset,\n",
    "        batch_size = bach_size,\n",
    "        shuffle = True\n",
    "    )\n",
    "\n",
    "    test_loader = DataLoader(\n",
    "        dataset = test_dataset,\n",
    "        batch_size = bach_size,\n",
    "        shuffle = True\n",
    "    )\n",
    "\n",
    "    return (train_loader,test_loader,train_dataset,test_dataset)"
   ]
  },
  {
   "cell_type": "code",
   "execution_count": 6,
   "metadata": {},
   "outputs": [],
   "source": [
    "def get_random_image(dataloader:DataLoader)-> None:\n",
    "    \n",
    "    random_batch = torch.randint(0,len(dataloader),(1,)).item()\n",
    "    print(random_batch)\n",
    "    dataloader_iter = iter(dataloader)\n",
    "    for _ in range(random_batch):\n",
    "        next(dataloader_iter)\n",
    "        \n",
    "    images,labels = next(dataloader_iter)\n",
    "    random_image = torch.randint(0,len(images),(1,)).item()\n",
    "    image = images[random_image]\n",
    "    label = labels[random_image]\n",
    "    image = image * 0.5 + 0.5 \n",
    "    image = image.permute(1, 2, 0)\n",
    "    plt.imshow(image.squeeze(), cmap=\"gray\")  \n",
    "    plt.title(f\"Etiqueta: {label.item()}\")\n",
    "    plt.axis(\"off\")\n",
    "    plt.show() "
   ]
  },
  {
   "cell_type": "code",
   "execution_count": 7,
   "metadata": {},
   "outputs": [],
   "source": [
    "device = get_device()\n",
    "train_loader,test_loader = get_dataset(bach_size=batch_size)"
   ]
  },
  {
   "cell_type": "code",
   "execution_count": 8,
   "metadata": {},
   "outputs": [
    {
     "name": "stdout",
     "output_type": "stream",
     "text": [
      "507\n"
     ]
    },
    {
     "data": {
      "image/png": "[encoded data removed]",
      "text/plain": [
       "<Figure size 640x480 with 1 Axes>"
      ]
     },
     "metadata": {},
     "output_type": "display_data"
    }
   ],
   "source": [
    "get_random_image(train_loader)"
   ]
  },
  {
   "cell_type": "code",
   "execution_count": 21,
   "metadata": {},
   "outputs": [
    {
     "data": {
      "text/plain": [
       "938"
      ]
     },
     "execution_count": 21,
     "metadata": {},
     "output_type": "execute_result"
    }
   ],
   "source": [
    "len(train_loader)"
   ]
  },
  {
   "cell_type": "code",
   "execution_count": 22,
   "metadata": {},
   "outputs": [
    {
     "data": {
      "text/plain": [
       "60032"
      ]
     },
     "execution_count": 22,
     "metadata": {},
     "output_type": "execute_result"
    }
   ],
   "source": [
    "938*64"
   ]
  },
  {
   "cell_type": "code",
   "execution_count": null,
   "metadata": {},
   "outputs": [],
   "source": []
  }
 ],
 "metadata": {
  "kernelspec": {
   "display_name": "pytorch251",
   "language": "python",
   "name": "python3"
  },
  "language_info": {
   "codemirror_mode": {
    "name": "ipython",
    "version": 3
   },
   "file_extension": ".py",
   "mimetype": "text/x-python",
   "name": "python",
   "nbconvert_exporter": "python",
   "pygments_lexer": "ipython3",
   "version": "3.12.3"
  }
 },
 "nbformat": 4,
 "nbformat_minor": 2
}
